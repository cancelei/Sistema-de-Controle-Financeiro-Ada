{
  "cells": [
    {
      "cell_type": "code",
      "execution_count": null,
      "metadata": {
        "id": "kJ1_HHvejV5Q"
      },
      "outputs": [],
      "source": [
        "class Externa:\n",
        "\n",
        "  def __init__(self):\n",
        "    print('Instância da classe Externa criada')\n",
        "    self.interna = self.Interna()\n",
        "\n",
        "  def mostrar(self):\n",
        "    print('Método mostrar da classe Externa')\n",
        "\n",
        "  class Interna:\n",
        "\n",
        "    def __init__(self):\n",
        "      print('Instância da classe Interna criada')\n",
        "\n",
        "    def mostrar(self):\n",
        "      print('Método mostrar da classe Interna')\n",
        "\n",
        "    def consultar(self):\n",
        "      print('Método consultar da classe Interna')"
      ]
    },
    {
      "cell_type": "code",
      "execution_count": null,
      "metadata": {
        "colab": {
          "base_uri": "https://localhost:8080/"
        },
        "id": "p5SDilIVkCyN",
        "outputId": "480873ac-0f6f-4da3-ef20-93d08967de41"
      },
      "outputs": [],
      "source": [
        "e = Externa()\n",
        "\n",
        "type(e)"
      ]
    },
    {
      "cell_type": "code",
      "execution_count": null,
      "metadata": {
        "colab": {
          "base_uri": "https://localhost:8080/"
        },
        "id": "enrN5FMNkkBv",
        "outputId": "9bba67cd-ff81-42dc-b53f-58ffd251718d"
      },
      "outputs": [],
      "source": [
        "exemplo2 = Externa()\n",
        "\n",
        "print(type(exemplo2))"
      ]
    },
    {
      "cell_type": "code",
      "execution_count": null,
      "metadata": {
        "colab": {
          "base_uri": "https://localhost:8080/"
        },
        "id": "PA2qxFGOlI2p",
        "outputId": "8694b4dc-b642-45d0-9489-b8f339e0d7f5"
      },
      "outputs": [],
      "source": [
        "e.mostrar()"
      ]
    },
    {
      "cell_type": "code",
      "execution_count": null,
      "metadata": {
        "colab": {
          "base_uri": "https://localhost:8080/"
        },
        "id": "FOeBls6hlLB-",
        "outputId": "00ae29b6-9467-4af2-833c-cfad45561244"
      },
      "outputs": [],
      "source": [
        "e.interna.mostrar()"
      ]
    },
    {
      "cell_type": "code",
      "execution_count": null,
      "metadata": {
        "colab": {
          "base_uri": "https://localhost:8080/"
        },
        "id": "hiH1LqmDmSZ6",
        "outputId": "2fd16cec-6957-4076-b4ea-ad667663a350"
      },
      "outputs": [],
      "source": [
        "e.interna.consultar()"
      ]
    },
    {
      "cell_type": "markdown",
      "metadata": {},
      "source": [
        "# 💸 Projeto Final | Sistema de Controle Financeiro"
      ]
    },
    {
      "cell_type": "markdown",
      "metadata": {},
      "source": [
        "Deverá ser desenvolvido um sistema para controle financeiro que receba as movimentações e as armazena em um arquivo csv ou json.\n",
        "\n",
        "O sistema deverá ser capaz de realizar as seguintes operações:\n",
        "\n",
        "- **Criar** novos registros e identificar a data que o registro foi feito, qual tipo de movimentação, valor.\n",
        "\n",
        "  - Os tipos podem ser:\n",
        "    - Receita: o valor deve ser tratado como numérico e armazenado normalmente.\n",
        "    - Despesas: o valor deve ser recebido como positivo, mas armazenado como negativo\n",
        "    - Investimento: deve ter uma informação a mais de 'Montante', em que será calculado quanto o dinheiro rendeu desde o dia que foi investido.\n",
        "    Para essa finalidade utilize a seguinte formula: $M = C * (1 + i)^t$ ([Saiba mais](https://matematicafinanceira.org/juros-compostos/)), considere tudo em dias.\n",
        "- **Ler** registros: Deverá ser possível consultar os registros por data, tipo ou valor.\n",
        "- **Atualizar** registros: No caso de atualização, pode-se atualizar o valor, o tipo e a data deverá ser a de atualização do registro.\n",
        "- **Deletar**: Deverá ser possível deletar o registro (caso necessário, considere o indice do elemento como ID)\n",
        "\n",
        "Outras funcionalidades:\n",
        "- Crie uma função ```atualiza_rendimento``` que atualize os valores de rendimento sempre que chamada.\n",
        "- Crie uma função ```exportar_relatorio```, que seja possível exportar um relatorio final em csv ou json.\n",
        "- Crie pelo menos uma função de agrupamento, que seja capaz de mostrar o total de valor baseado em alguma informação (mes, tipo...)\n",
        "\n",
        "---\n",
        "\n",
        "👩‍💻 **O que vai ser avaliado**:\n",
        "\n",
        "- Se as funções e operações cuprem o seu objetivo\n",
        "- Reprodutibilidade do código: vou executar!\n",
        "\n",
        "👉🏻 **Envio do projeto**:\n",
        "- Via LMS **individualmente.** <br>\n",
        "  Apesar de ser em grupo, cada um de vocês precisa submeter o projeto.\n",
        "- Formato: arquivo .py ou .ipynb.\n",
        "- 📅 29/01, até as 23h59.\n",
        "\n",
        "⚠️ **Atenção**:\n",
        "- Não utilize a biblioteca pandas para resolução desse exercício"
      ]
    },
    {
      "cell_type": "code",
      "execution_count": 42,
      "metadata": {
        "colab": {
          "base_uri": "https://localhost:8080/"
        },
        "id": "YYHs7aLUmUpX",
        "outputId": "ee6ac69b-8d8a-48d1-d96c-cde4eb28d76b"
      },
      "outputs": [
        {
          "name": "stdout",
          "output_type": "stream",
          "text": [
            "Dados 1: ID=0, data=01/02/2023, receita=100, despesa=-0.0\n"
          ]
        }
      ],
      "source": [
        "from datetime import datetime, timedelta\n",
        "\n",
        "#Documentar cada função abaixo\n",
        "\n",
        "#Criar registros: Despesa e Receita\n",
        "class Banco:\n",
        "    def __init__(self, id, receita, despesa, tipo_transacao=None, data=datetime.now().date()):\n",
        "        self.id = id\n",
        "        self.receita = receita\n",
        "        self.despesa = float(despesa)*(-1)\n",
        "        if data == None:\n",
        "            self.data = datetime.now().date()\n",
        "        else:\n",
        "            self.data = data\n",
        "        if receita == 0 or receita == None:\n",
        "            self.tipo_transacao = 'Despesa'\n",
        "        elif despesa == 0 or despesa == None:\n",
        "            self.tipo_transacao = 'Receita'\n",
        "        else:\n",
        "            self.tipo_transacao = 'Receita e Despesa'\n",
        "\n",
        "# Sobrescrever registros\n",
        "    def sobrescrever_data(self, data):\n",
        "        self.data = data\n",
        "\n",
        "    def sobrescrever_receita(self, receita):\n",
        "      self.receita = receita\n",
        "      self.data = datetime.now().date()\n",
        "\n",
        "    def sobrescrever_despesa(self, despesa):\n",
        "      self.despesa = despesa\n",
        "      self.data = datetime.now().date()\n",
        "      \n",
        "    def sobrescrever_tipo(self, receita, despesa):\n",
        "        self.despesa = float(despesa)*(-1)\n",
        "        self.receita = receita\n",
        "        self.data = datetime.now().date()\n",
        "        if receita == 0 or receita == None:\n",
        "            self.tipo_transacao = 'Despesa'\n",
        "        elif despesa == 0 or despesa == None:\n",
        "            self.tipo_transacao = 'Receita'\n",
        "        else:\n",
        "            self.tipo_transacao = 'Receita e Despesa'\n",
        "\n",
        "def calculo_montante(investimento, taxa, data_inicial, data_final=None) -> float:\n",
        "\n",
        "    data_inicial = datetime.strptime(data_inicial, '%d-%m-%Y').date()\n",
        "    if data_final==None:\n",
        "        data_final = datetime.now().date()\n",
        "    else:\n",
        "        data_final = datetime.strptime(data_final, '%d-%m-%Y').date()\n",
        "\n",
        "    # Calcula a diferença entre as datas\n",
        "    delta_tempo = data_final - data_inicial\n",
        "\n",
        "    # Extrai o número de dias do timedelta\n",
        "    delta_tempo = delta_tempo.days\n",
        "    montante = investimento*((1+taxa)**delta_tempo) \n",
        "\n",
        "    return round(montante, 2)\n",
        "\n",
        "\n",
        "# Cria investimento:\n",
        "class BancoInvestimento:\n",
        "    def __init__(self, id, investimento, data_inicial, taxa, tipo_transacao=None, data_final=None):\n",
        "        self.id = id\n",
        "        self.investimento = investimento \n",
        "        self.data_inicial = data_inicial\n",
        "        self.taxa = taxa\n",
        "        self.tipo_transacao = 'Investimento'\n",
        "        if data_final == None:\n",
        "            self.data_final = datetime.now().date()\n",
        "        else:\n",
        "            self.data_final = data_final\n",
        "        self.montante = calculo_montante(investimento, taxa, data_inicial, data_final)\n",
        "\n",
        "\n",
        "\n",
        "dados1 = Banco(id=0,data='01/02/2023', receita=100, despesa=0)\n",
        "\n",
        "dados = {}\n",
        "\n",
        "# Como armazenar os dados?\n",
        "# dados = {1:Banco(id, receita, despesa, tipo_transacao=None, data=datetime.now().date()), 2:Banco(id, receita, despesa, tipo_transacao=None, data=datetime.now().date())} em Dicionário?\n",
        "\n",
        "\n",
        "\n",
        "print(f\"Dados 1: ID={dados1.id}, data={dados1.data}, receita={dados1.receita}, despesa={dados1.despesa}\")\n"
      ]
    },
    {
      "cell_type": "code",
      "execution_count": 43,
      "metadata": {},
      "outputs": [
        {
          "name": "stdout",
          "output_type": "stream",
          "text": [
            "Dados I: ID=0, data_inicial=01-02-2024, investimento=200, data_final=2024-02-10, taxa=0.02, tipo=Investimento, montante=239.02 \n"
          ]
        }
      ],
      "source": [
        "dadosi = BancoInvestimento(id=0, investimento=200, data_inicial='01-02-2024', taxa=0.02, data_final=None)\n",
        "print(f\"Dados I: ID={dadosi.id}, data_inicial={dadosi.data_inicial}, investimento={dadosi.investimento}, data_final={dadosi.data_final}, taxa={dadosi.taxa}, tipo={dadosi.tipo_transacao}, montante={dadosi.montante} \")"
      ]
    },
    {
      "cell_type": "markdown",
      "metadata": {},
      "source": [
        "Criar uma forma de extrair as transações feitas - em .csv ou json - Ver quando e como ocorreram as modificações, exlcusões e inclusões de registros."
      ]
    },
    {
      "cell_type": "markdown",
      "metadata": {},
      "source": [
        "Regras de exceção devem ser criadas dentro dos menus"
      ]
    },
    {
      "cell_type": "markdown",
      "metadata": {},
      "source": [
        "### MENU"
      ]
    },
    {
      "cell_type": "code",
      "execution_count": null,
      "metadata": {},
      "outputs": [],
      "source": [
        "#MENU:\n",
        "\n",
        "def menu() -> int:\n",
        "    \n",
        "    opcao = None\n",
        "    \n",
        "    print('\\n|| Bem-vindo ao MENU do Sistema Financeiro! ||\\n')\n",
        "    print('Digite < 1 > Adicionar dados no sistema')\n",
        "    print('Digite < 2 > Alterar dados do sistema')\n",
        "    print('Digite < 3 > Excluir dados do sistema')\n",
        "    print('Digite < 4 > Consultar dados do sistema')\n",
        "    print('Digite < 5 > Exportar dados do sistema')\n",
        "    print('Digite < 6 > Exportar transações do sistema')\n",
        "    print('Digite < 0 > SAIR')\n",
        "\n",
        "    while opcao not in [0,1,2,3,4,5,6]:\n",
        "        try:\n",
        "            opcao = int(input('Digite um número: 0 - 6 <<>>'))\n",
        "            if opcao not in [0,1,2,3,4,5,6]:\n",
        "                print('Digite um valor VÁLIDO entre 0 e 6:')\n",
        "\n",
        "        except ValueError:\n",
        "            print(f'Opção IVÁLIDA, adicione um número válido!')\n",
        "\n",
        "    return opcao"
      ]
    },
    {
      "cell_type": "code",
      "execution_count": null,
      "metadata": {},
      "outputs": [],
      "source": [
        "def adicionar_dados"
      ]
    },
    {
      "cell_type": "code",
      "execution_count": null,
      "metadata": {},
      "outputs": [],
      "source": [
        "if __name__ == \"__main__\":\n",
        "    resposta = menu()\n",
        "\n",
        "print(resposta)"
      ]
    },
    {
      "cell_type": "code",
      "execution_count": null,
      "metadata": {},
      "outputs": [],
      "source": [
        "menu()"
      ]
    },
    {
      "cell_type": "code",
      "execution_count": null,
      "metadata": {},
      "outputs": [],
      "source": [
        "print(f\"Dados 1: ID={dados1.id}, data={dados1.data}, receita={dados1.receita}, despesa={dados1.despesa}, tipo_transacao={dados1.tipo_transacao}\")\n",
        "dados1.sobrescrever_tipo(0,12)\n",
        "print(f\"Dados 1: ID={dados1.id}, data={dados1.data}, receita={dados1.receita}, despesa={dados1.despesa}, tipo_transacao={dados1.tipo_transacao}\")"
      ]
    },
    {
      "cell_type": "code",
      "execution_count": null,
      "metadata": {},
      "outputs": [],
      "source": [
        "dados666 = Banco(id=666,receita=666, despesa=666)\n",
        "print(f\"Dados 666: ID={dados666.id}, data={dados666.data}, receita={dados666.receita}, despesa={dados666.despesa}, tipo_transacao={dados666.tipo_transacao}\")"
      ]
    },
    {
      "cell_type": "code",
      "execution_count": null,
      "metadata": {
        "colab": {
          "base_uri": "https://localhost:8080/"
        },
        "id": "MorVyU3mnvSz",
        "outputId": "7b924262-7e1b-4735-837a-3c8a807f4fde"
      },
      "outputs": [],
      "source": [
        "type(dados1)\n"
      ]
    },
    {
      "cell_type": "code",
      "execution_count": null,
      "metadata": {
        "id": "tSJzEMJlpRQm"
      },
      "outputs": [],
      "source": [
        "dados1.sobrescrever_data(data='02/02/2022')"
      ]
    },
    {
      "cell_type": "code",
      "execution_count": null,
      "metadata": {
        "colab": {
          "base_uri": "https://localhost:8080/"
        },
        "id": "8qEPTrCWvAL_",
        "outputId": "d06b07d2-cc39-4182-b9ce-9328b81ba29a"
      },
      "outputs": [],
      "source": [
        "print(f\"Dados 1: ID={dados1.id}, data={dados1.data}, receita={dados1.receita}, despesa={dados1.despesa}\")"
      ]
    },
    {
      "cell_type": "code",
      "execution_count": null,
      "metadata": {
        "id": "tIscvFuZwU3_"
      },
      "outputs": [],
      "source": [
        "b = Banco(id=0,data=0,receita=0,despesa='j')"
      ]
    },
    {
      "cell_type": "code",
      "execution_count": null,
      "metadata": {
        "colab": {
          "base_uri": "https://localhost:8080/"
        },
        "id": "3x4VMAb6xON_",
        "outputId": "044d3b02-0cca-4b47-e1f1-81441487770f"
      },
      "outputs": [],
      "source": [
        "print(b.id)"
      ]
    },
    {
      "cell_type": "code",
      "execution_count": null,
      "metadata": {
        "id": "ex4DeXqhxsM3"
      },
      "outputs": [],
      "source": [
        "b = []\n",
        "for i in range(10):\n",
        "   b.append(Banco(id=i,data=i,receita=i+2,despesa=i))"
      ]
    },
    {
      "cell_type": "code",
      "execution_count": null,
      "metadata": {},
      "outputs": [],
      "source": [
        "d = {}\n",
        "for i in range(10):\n",
        "   d[i] = Banco(id=i,receita=i+2,despesa=i)\n",
        "\n",
        "print(d)\n",
        "\n",
        "for i in range(10):\n",
        "    print(f\"Dados {i}: ID={d[i].id}, data={d[i].data}, receita={d[i].receita}, despesa={d[i].despesa}, tipo_transação={d[i].tipo_transacao}\")"
      ]
    },
    {
      "cell_type": "code",
      "execution_count": null,
      "metadata": {
        "colab": {
          "base_uri": "https://localhost:8080/"
        },
        "id": "u-Lg4FO5yxS4",
        "outputId": "46d7f05a-898d-407f-b1dd-235086a950bc"
      },
      "outputs": [],
      "source": [
        "b[9].receita"
      ]
    },
    {
      "cell_type": "code",
      "execution_count": null,
      "metadata": {
        "colab": {
          "base_uri": "https://localhost:8080/"
        },
        "id": "v5WAdANwzD_H",
        "outputId": "8139d145-1a79-471c-b36a-5233dc000431"
      },
      "outputs": [],
      "source": [
        "print(b)"
      ]
    },
    {
      "cell_type": "code",
      "execution_count": null,
      "metadata": {
        "colab": {
          "base_uri": "https://localhost:8080/"
        },
        "id": "jX92SryuzRKA",
        "outputId": "004eff41-2cef-4dcc-a310-8faf741e6fd7"
      },
      "outputs": [],
      "source": [
        "\n",
        "for i in range(10):\n",
        "  print(f\"Dados {i}: ID={b[i].id}, data={b[i].data}, receita={b[i].receita}, despesa={b[i].despesa}, tipo_transação={b[i].tipo_transacao}\")"
      ]
    },
    {
      "cell_type": "code",
      "execution_count": null,
      "metadata": {
        "id": "ScwvnrAl0iDo"
      },
      "outputs": [],
      "source": [
        "b[2].sobrescrever_data('cu')"
      ]
    },
    {
      "cell_type": "code",
      "execution_count": null,
      "metadata": {
        "id": "Jyi7RVTfacmQ"
      },
      "outputs": [],
      "source": [
        "b[2].sobrescrever_receita(666)\n",
        "\n"
      ]
    }
  ],
  "metadata": {
    "colab": {
      "provenance": []
    },
    "kernelspec": {
      "display_name": "Python 3",
      "name": "python3"
    },
    "language_info": {
      "codemirror_mode": {
        "name": "ipython",
        "version": 3
      },
      "file_extension": ".py",
      "mimetype": "text/x-python",
      "name": "python",
      "nbconvert_exporter": "python",
      "pygments_lexer": "ipython3",
      "version": "3.12.1"
    }
  },
  "nbformat": 4,
  "nbformat_minor": 0
}
