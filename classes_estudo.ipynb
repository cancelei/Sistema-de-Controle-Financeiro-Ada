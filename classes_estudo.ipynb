{
  "cells": [
    {
      "cell_type": "code",
      "execution_count": 1,
      "metadata": {
        "id": "kJ1_HHvejV5Q"
      },
      "outputs": [],
      "source": [
        "class Externa:\n",
        "\n",
        "  def __init__(self):\n",
        "    print('Instância da classe Externa criada')\n",
        "    self.interna = self.Interna()\n",
        "\n",
        "  def mostrar(self):\n",
        "    print('Método mostrar da classe Externa')\n",
        "\n",
        "  class Interna:\n",
        "\n",
        "    def __init__(self):\n",
        "      print('Instância da classe Interna criada')\n",
        "\n",
        "    def mostrar(self):\n",
        "      print('Método mostrar da classe Interna')\n",
        "\n",
        "    def consultar(self):\n",
        "      print('Método consultar da classe Interna')"
      ]
    },
    {
      "cell_type": "code",
      "execution_count": 2,
      "metadata": {
        "colab": {
          "base_uri": "https://localhost:8080/"
        },
        "id": "p5SDilIVkCyN",
        "outputId": "480873ac-0f6f-4da3-ef20-93d08967de41"
      },
      "outputs": [
        {
          "name": "stdout",
          "output_type": "stream",
          "text": [
            "Instância da classe Externa criada\n",
            "Instância da classe Interna criada\n"
          ]
        },
        {
          "data": {
            "text/plain": [
              "__main__.Externa"
            ]
          },
          "execution_count": 2,
          "metadata": {},
          "output_type": "execute_result"
        }
      ],
      "source": [
        "e = Externa()\n",
        "\n",
        "type(e)"
      ]
    },
    {
      "cell_type": "code",
      "execution_count": 17,
      "metadata": {
        "colab": {
          "base_uri": "https://localhost:8080/"
        },
        "id": "enrN5FMNkkBv",
        "outputId": "9bba67cd-ff81-42dc-b53f-58ffd251718d"
      },
      "outputs": [
        {
          "name": "stdout",
          "output_type": "stream",
          "text": [
            "Instância da classe Externa criada\n",
            "Instância da classe Interna criada\n",
            "<class '__main__.Externa'>\n"
          ]
        }
      ],
      "source": [
        "exemplo2 = Externa()\n",
        "\n",
        "print(type(exemplo2))"
      ]
    },
    {
      "cell_type": "code",
      "execution_count": 19,
      "metadata": {
        "colab": {
          "base_uri": "https://localhost:8080/"
        },
        "id": "PA2qxFGOlI2p",
        "outputId": "8694b4dc-b642-45d0-9489-b8f339e0d7f5"
      },
      "outputs": [
        {
          "name": "stdout",
          "output_type": "stream",
          "text": [
            "Método mostrar da classe Externa\n"
          ]
        }
      ],
      "source": [
        "e.mostrar()"
      ]
    },
    {
      "cell_type": "code",
      "execution_count": 20,
      "metadata": {
        "colab": {
          "base_uri": "https://localhost:8080/"
        },
        "id": "FOeBls6hlLB-",
        "outputId": "00ae29b6-9467-4af2-833c-cfad45561244"
      },
      "outputs": [
        {
          "name": "stdout",
          "output_type": "stream",
          "text": [
            "Método mostrar da classe Interna\n"
          ]
        }
      ],
      "source": [
        "e.interna.mostrar()"
      ]
    },
    {
      "cell_type": "code",
      "execution_count": 21,
      "metadata": {
        "colab": {
          "base_uri": "https://localhost:8080/"
        },
        "id": "hiH1LqmDmSZ6",
        "outputId": "2fd16cec-6957-4076-b4ea-ad667663a350"
      },
      "outputs": [
        {
          "name": "stdout",
          "output_type": "stream",
          "text": [
            "Método consultar da classe Interna\n"
          ]
        }
      ],
      "source": [
        "e.interna.consultar()"
      ]
    },
    {
      "cell_type": "markdown",
      "metadata": {},
      "source": [
        "# 💸 Projeto Final | Sistema de Controle Financeiro"
      ]
    },
    {
      "cell_type": "markdown",
      "metadata": {},
      "source": [
        "Deverá ser desenvolvido um sistema para controle financeiro que receba as movimentações e as armazena em um arquivo csv ou json.\n",
        "\n",
        "O sistema deverá ser capaz de realizar as seguintes operações:\n",
        "\n",
        "- **Criar** novos registros e identificar a data que o registro foi feito, qual tipo de movimentação, valor.\n",
        "\n",
        "  - Os tipos podem ser:\n",
        "    - Receita: o valor deve ser tratado como numérico e armazenado normalmente.\n",
        "    - Despesas: o valor deve ser recebido como positivo, mas armazenado como negativo\n",
        "    - Investimento: deve ter uma informação a mais de 'Montante', em que será calculado quanto o dinheiro rendeu desde o dia que foi investido.\n",
        "    Para essa finalidade utilize a seguinte formula: $M = C * (1 + i)^t$ ([Saiba mais](https://matematicafinanceira.org/juros-compostos/)), considere tudo em dias.\n",
        "- **Ler** registros: Deverá ser possível consultar os registros por data, tipo ou valor.\n",
        "- **Atualizar** registros: No caso de atualização, pode-se atualizar o valor, o tipo e a data deverá ser a de atualização do registro.\n",
        "- **Deletar**: Deverá ser possível deletar o registro (caso necessário, considere o indice do elemento como ID)\n",
        "\n",
        "Outras funcionalidades:\n",
        "- Crie uma função ```atualiza_rendimento``` que atualize os valores de rendimento sempre que chamada.\n",
        "- Crie uma função ```exportar_relatorio```, que seja possível exportar um relatorio final em csv ou json.\n",
        "- Crie pelo menos uma função de agrupamento, que seja capaz de mostrar o total de valor baseado em alguma informação (mes, tipo...)\n",
        "\n",
        "---\n",
        "\n",
        "👩‍💻 **O que vai ser avaliado**:\n",
        "\n",
        "- Se as funções e operações cuprem o seu objetivo\n",
        "- Reprodutibilidade do código: vou executar!\n",
        "\n",
        "👉🏻 **Envio do projeto**:\n",
        "- Via LMS **individualmente.** <br>\n",
        "  Apesar de ser em grupo, cada um de vocês precisa submeter o projeto.\n",
        "- Formato: arquivo .py ou .ipynb.\n",
        "- 📅 29/01, até as 23h59.\n",
        "\n",
        "⚠️ **Atenção**:\n",
        "- Não utilize a biblioteca pandas para resolução desse exercício"
      ]
    },
    {
      "cell_type": "code",
      "execution_count": 11,
      "metadata": {
        "colab": {
          "base_uri": "https://localhost:8080/"
        },
        "id": "YYHs7aLUmUpX",
        "outputId": "ee6ac69b-8d8a-48d1-d96c-cde4eb28d76b"
      },
      "outputs": [
        {
          "name": "stdout",
          "output_type": "stream",
          "text": [
            "Dados 1: ID=0, data=01/02/2023, receita=100, despesa=-0.0\n"
          ]
        }
      ],
      "source": [
        "from datetime import datetime, timedelta\n",
        "\n",
        "#Documentar cada função abaixo\n",
        "\n",
        "#Criar registros\n",
        "class Banco:\n",
        "    def __init__(self, id, data, receita, despesa, tipo_transacao = ''):\n",
        "        self.id = id\n",
        "        self.data = data\n",
        "        self.receita = receita\n",
        "        self.despesa = float(despesa)*(-1)\n",
        "        if receita == -0 or receita == '':\n",
        "            self.tipo_transacao = 'Despesa'\n",
        "        else:\n",
        "            self.tipo_transacao = 'Receita'\n",
        "\n",
        "# Sobrescrever registros\n",
        "    def sobrescrever_data(self, data):\n",
        "        self.data = data\n",
        "\n",
        "    def sobrescrever_receita(self, receita):\n",
        "      self.receita = receita\n",
        "      self.data = datetime.now().date()\n",
        "\n",
        "    def sobrescrever_despesa(self, despesa):\n",
        "      self.despesa = despesa\n",
        "      self.data = datetime.now().date()\n",
        "      \n",
        "    def sobrescrever_tipo(self, receita, despesa):\n",
        "        self.despesa = float(despesa)*(-1)\n",
        "        self.receita = receita\n",
        "        self.data = datetime.now().date()\n",
        "        if receita == -0 or receita == '':\n",
        "            self.tipo_transacao = 'Despesa'\n",
        "        else:\n",
        "            self.tipo_transacao = 'Receita'\n",
        "\n",
        "\n",
        "\n",
        "dados1 = Banco(id=0,data='01/02/2023', receita=100, despesa=0)\n",
        "\n",
        "\n",
        "\n",
        "print(f\"Dados 1: ID={dados1.id}, data={dados1.data}, receita={dados1.receita}, despesa={dados1.despesa}\")\n"
      ]
    },
    {
      "cell_type": "markdown",
      "metadata": {},
      "source": [
        "Criar uma forma de extrair as transações feitas - em .csv ou json - Ver quando e como ocorreram as modificações, exlcusões e inclusões de registros."
      ]
    },
    {
      "cell_type": "code",
      "execution_count": 14,
      "metadata": {},
      "outputs": [
        {
          "name": "stdout",
          "output_type": "stream",
          "text": [
            "Dados 1: ID=0, data=2024-02-09, receita=, despesa=-12.0, tipo_transacao=Despesa\n",
            "Dados 1: ID=0, data=2024-02-09, receita=a, despesa=-12.0, tipo_transacao=Receita\n"
          ]
        }
      ],
      "source": [
        "print(f\"Dados 1: ID={dados1.id}, data={dados1.data}, receita={dados1.receita}, despesa={dados1.despesa}, tipo_transacao={dados1.tipo_transacao}\")\n",
        "dados1.sobrescrever_tipo('a',12) #Ver regra de exceção para strings e valores inválidos\n",
        "print(f\"Dados 1: ID={dados1.id}, data={dados1.data}, receita={dados1.receita}, despesa={dados1.despesa}, tipo_transacao={dados1.tipo_transacao}\")"
      ]
    },
    {
      "cell_type": "code",
      "execution_count": 17,
      "metadata": {
        "colab": {
          "base_uri": "https://localhost:8080/"
        },
        "id": "MorVyU3mnvSz",
        "outputId": "7b924262-7e1b-4735-837a-3c8a807f4fde"
      },
      "outputs": [
        {
          "data": {
            "text/plain": [
              "__main__.Banco"
            ]
          },
          "execution_count": 17,
          "metadata": {},
          "output_type": "execute_result"
        }
      ],
      "source": [
        "type(dados1)\n"
      ]
    },
    {
      "cell_type": "code",
      "execution_count": 18,
      "metadata": {
        "id": "tSJzEMJlpRQm"
      },
      "outputs": [],
      "source": [
        "dados1.sobrescrever_data(data='02/02/2022')"
      ]
    },
    {
      "cell_type": "code",
      "execution_count": 19,
      "metadata": {
        "colab": {
          "base_uri": "https://localhost:8080/"
        },
        "id": "8qEPTrCWvAL_",
        "outputId": "d06b07d2-cc39-4182-b9ce-9328b81ba29a"
      },
      "outputs": [
        {
          "name": "stdout",
          "output_type": "stream",
          "text": [
            "Dados 1: ID=0, data=02/02/2022, receita=100, despesa=0\n"
          ]
        }
      ],
      "source": [
        "print(f\"Dados 1: ID={dados1.id}, data={dados1.data}, receita={dados1.receita}, despesa={dados1.despesa}\")"
      ]
    },
    {
      "cell_type": "code",
      "execution_count": 20,
      "metadata": {
        "id": "tIscvFuZwU3_"
      },
      "outputs": [],
      "source": [
        "b = Banco(id=0,data=0,receita=0,despesa=0)"
      ]
    },
    {
      "cell_type": "code",
      "execution_count": 21,
      "metadata": {
        "colab": {
          "base_uri": "https://localhost:8080/"
        },
        "id": "3x4VMAb6xON_",
        "outputId": "044d3b02-0cca-4b47-e1f1-81441487770f"
      },
      "outputs": [
        {
          "name": "stdout",
          "output_type": "stream",
          "text": [
            "0\n"
          ]
        }
      ],
      "source": [
        "print(b.id)"
      ]
    },
    {
      "cell_type": "code",
      "execution_count": 22,
      "metadata": {
        "id": "ex4DeXqhxsM3"
      },
      "outputs": [],
      "source": [
        "b = []\n",
        "for i in range(10):\n",
        "   b.append(Banco(id=i,data=i,receita=i+2,despesa=i))"
      ]
    },
    {
      "cell_type": "code",
      "execution_count": 23,
      "metadata": {
        "colab": {
          "base_uri": "https://localhost:8080/"
        },
        "id": "u-Lg4FO5yxS4",
        "outputId": "46d7f05a-898d-407f-b1dd-235086a950bc"
      },
      "outputs": [
        {
          "data": {
            "text/plain": [
              "11"
            ]
          },
          "execution_count": 23,
          "metadata": {},
          "output_type": "execute_result"
        }
      ],
      "source": [
        "b[9].receita"
      ]
    },
    {
      "cell_type": "code",
      "execution_count": 24,
      "metadata": {
        "colab": {
          "base_uri": "https://localhost:8080/"
        },
        "id": "v5WAdANwzD_H",
        "outputId": "8139d145-1a79-471c-b36a-5233dc000431"
      },
      "outputs": [
        {
          "name": "stdout",
          "output_type": "stream",
          "text": [
            "[<__main__.Banco object at 0x7fc598aed180>, <__main__.Banco object at 0x7fc598aee6e0>, <__main__.Banco object at 0x7fc598aeffa0>, <__main__.Banco object at 0x7fc598aeff70>, <__main__.Banco object at 0x7fc598aeec50>, <__main__.Banco object at 0x7fc598aef2e0>, <__main__.Banco object at 0x7fc598aef6a0>, <__main__.Banco object at 0x7fc598aeee60>, <__main__.Banco object at 0x7fc598aecd60>, <__main__.Banco object at 0x7fc598aedfc0>]\n"
          ]
        }
      ],
      "source": [
        "print(b)"
      ]
    },
    {
      "cell_type": "code",
      "execution_count": 29,
      "metadata": {
        "colab": {
          "base_uri": "https://localhost:8080/"
        },
        "id": "jX92SryuzRKA",
        "outputId": "004eff41-2cef-4dcc-a310-8faf741e6fd7"
      },
      "outputs": [
        {
          "name": "stdout",
          "output_type": "stream",
          "text": [
            "Dados 0: ID=0, data=0, receita=2, despesa=0\n",
            "Dados 1: ID=1, data=1, receita=3, despesa=1\n",
            "Dados 2: ID=2, data=2024-01-25, receita=666, despesa=2\n",
            "Dados 3: ID=3, data=3, receita=5, despesa=3\n",
            "Dados 4: ID=4, data=4, receita=6, despesa=4\n",
            "Dados 5: ID=5, data=5, receita=7, despesa=5\n",
            "Dados 6: ID=6, data=6, receita=8, despesa=6\n",
            "Dados 7: ID=7, data=7, receita=9, despesa=7\n",
            "Dados 8: ID=8, data=8, receita=10, despesa=8\n",
            "Dados 9: ID=9, data=9, receita=11, despesa=9\n"
          ]
        }
      ],
      "source": [
        "\n",
        "for i in range(10):\n",
        "  print(f\"Dados {i}: ID={b[i].id}, data={b[i].data}, receita={b[i].receita}, despesa={b[i].despesa}\")"
      ]
    },
    {
      "cell_type": "code",
      "execution_count": 26,
      "metadata": {
        "id": "ScwvnrAl0iDo"
      },
      "outputs": [],
      "source": [
        "b[2].sobrescrever_data('cu')"
      ]
    },
    {
      "cell_type": "code",
      "execution_count": 28,
      "metadata": {
        "id": "Jyi7RVTfacmQ"
      },
      "outputs": [],
      "source": [
        "b[2].sobrescrever_receita(666)\n",
        "\n"
      ]
    }
  ],
  "metadata": {
    "colab": {
      "provenance": []
    },
    "kernelspec": {
      "display_name": "Python 3",
      "name": "python3"
    },
    "language_info": {
      "codemirror_mode": {
        "name": "ipython",
        "version": 3
      },
      "file_extension": ".py",
      "mimetype": "text/x-python",
      "name": "python",
      "nbconvert_exporter": "python",
      "pygments_lexer": "ipython3",
      "version": "3.12.1"
    }
  },
  "nbformat": 4,
  "nbformat_minor": 0
}
