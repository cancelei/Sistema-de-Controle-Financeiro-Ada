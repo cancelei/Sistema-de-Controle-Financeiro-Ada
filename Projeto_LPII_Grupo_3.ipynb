{
  "cells": [
    {
      "cell_type": "markdown",
      "metadata": {
        "id": "QcN62PrTNuNr"
      },
      "source": [
        "# 💸 Projeto Final | Sistema de Controle Financeiro"
      ]
    },
    {
      "cell_type": "markdown",
      "metadata": {
        "id": "h-tcXISlOEy_"
      },
      "source": [
        "Deverá ser desenvolvido um sistema para controle financeiro que receba as movimentações e as armazena em um arquivo csv ou json.\n",
        "\n",
        "O sistema deverá ser capaz de realizar as seguintes operações:\n",
        "\n",
        "- **Criar** novos registros e identificar a data que o registro foi feito, qual tipo de movimentação, valor.\n",
        "\n",
        "  - Os tipos podem ser:\n",
        "    - Receita: o valor deve ser tratado como numérico e armazenado normalmente.\n",
        "    - Despesas: o valor deve ser recebido como positivo, mas armazenado como negativo\n",
        "    - Investimento: deve ter uma informação a mais de 'Montante', em que será calculado quanto o dinheiro rendeu desde o dia que foi investido.\n",
        "    Para essa finalidade utilize a seguinte formula: $M = C * (1 + i)^t$ ([Saiba mais](https://matematicafinanceira.org/juros-compostos/)), considere tudo em dias.\n",
        "- **Ler** registros: Deverá ser possível consultar os registros por data, tipo ou valor.\n",
        "- **Atualizar** registros: No caso de atualização, pode-se atualizar o valor, o tipo e a data deverá ser a de atualização do registro.\n",
        "- **Deletar**: Deverá ser possível deletar o registro (caso necessário, considere o indice do elemento como ID)\n",
        "\n",
        "Outras funcionalidades:\n",
        "- Crie uma função ```atualiza_rendimento``` que atualize os valores de rendimento sempre que chamada.\n",
        "- Crie uma função ```exportar_relatorio```, que seja possível exportar um relatorio final em csv ou json.\n",
        "- Crie pelo menos uma função de agrupamento, que seja capaz de mostrar o total de valor baseado em alguma informação (mes, tipo...)\n",
        "- Crie valores separados para identificar a data (dia, mes, ano)\n",
        "\n",
        "---\n",
        "\n",
        "👩‍💻 **O que vai ser avaliado**:\n",
        "\n",
        "- Se as funções e operações cuprem o seu objetivo\n",
        "- Reprodutibilidade do código: vou executar!\n",
        "\n",
        "👉🏻 **Envio do projeto**:\n",
        "- Via LMS **individualmente.** <br>\n",
        "  Apesar de ser em grupo, cada um de vocês precisa submeter o projeto.\n",
        "- Formato: arquivo .py ou .ipynb.\n",
        "- 📅 29/01, até as 23h59.\n",
        "\n",
        "⚠️ **Atenção**:\n",
        "- Não utilize a biblioteca pandas para resolução desse exercício\n"
      ]
    }
  ],
  "metadata": {
    "colab": {
      "private_outputs": true,
      "provenance": []
    },
    "kernelspec": {
      "display_name": "Python 3",
      "language": "python",
      "name": "python3"
    },
    "language_info": {
      "codemirror_mode": {
        "name": "ipython",
        "version": 3
      },
      "file_extension": ".py",
      "mimetype": "text/x-python",
      "name": "python",
      "nbconvert_exporter": "python",
      "pygments_lexer": "ipython3",
      "version": "3.6.6"
    }
  },
  "nbformat": 4,
  "nbformat_minor": 0
}